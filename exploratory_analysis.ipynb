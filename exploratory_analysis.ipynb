{
 "cells": [
  {
   "cell_type": "code",
   "execution_count": 1494,
   "metadata": {},
   "outputs": [],
   "source": [
    "import pandas as pd\n",
    "import numpy as np\n",
    "import missingno as msno\n",
    "from scipy.stats import ks_2samp\n",
    "import matplotlib.pyplot as plt\n",
    "import seaborn as sns\n",
    "import re"
   ]
  },
  {
   "cell_type": "code",
   "execution_count": 1495,
   "metadata": {},
   "outputs": [],
   "source": [
    "# read in data\n",
    "data = pd.read_csv('data/train.csv')\n",
    "\n",
    "# read in test data\n",
    "test = pd.read_csv('data/test.csv')"
   ]
  },
  {
   "cell_type": "code",
   "execution_count": 1496,
   "metadata": {},
   "outputs": [
    {
     "data": {
      "text/html": [
       "<div>\n",
       "<style scoped>\n",
       "    .dataframe tbody tr th:only-of-type {\n",
       "        vertical-align: middle;\n",
       "    }\n",
       "\n",
       "    .dataframe tbody tr th {\n",
       "        vertical-align: top;\n",
       "    }\n",
       "\n",
       "    .dataframe thead th {\n",
       "        text-align: right;\n",
       "    }\n",
       "</style>\n",
       "<table border=\"1\" class=\"dataframe\">\n",
       "  <thead>\n",
       "    <tr style=\"text-align: right;\">\n",
       "      <th></th>\n",
       "      <th>PassengerId</th>\n",
       "      <th>HomePlanet</th>\n",
       "      <th>CryoSleep</th>\n",
       "      <th>Cabin</th>\n",
       "      <th>Destination</th>\n",
       "      <th>Age</th>\n",
       "      <th>VIP</th>\n",
       "      <th>RoomService</th>\n",
       "      <th>FoodCourt</th>\n",
       "      <th>ShoppingMall</th>\n",
       "      <th>Spa</th>\n",
       "      <th>VRDeck</th>\n",
       "      <th>Name</th>\n",
       "      <th>Transported</th>\n",
       "    </tr>\n",
       "  </thead>\n",
       "  <tbody>\n",
       "    <tr>\n",
       "      <th>0</th>\n",
       "      <td>0001_01</td>\n",
       "      <td>Europa</td>\n",
       "      <td>False</td>\n",
       "      <td>B/0/P</td>\n",
       "      <td>TRAPPIST-1e</td>\n",
       "      <td>39.0</td>\n",
       "      <td>False</td>\n",
       "      <td>0.0</td>\n",
       "      <td>0.0</td>\n",
       "      <td>0.0</td>\n",
       "      <td>0.0</td>\n",
       "      <td>0.0</td>\n",
       "      <td>Maham Ofracculy</td>\n",
       "      <td>False</td>\n",
       "    </tr>\n",
       "    <tr>\n",
       "      <th>1</th>\n",
       "      <td>0002_01</td>\n",
       "      <td>Earth</td>\n",
       "      <td>False</td>\n",
       "      <td>F/0/S</td>\n",
       "      <td>TRAPPIST-1e</td>\n",
       "      <td>24.0</td>\n",
       "      <td>False</td>\n",
       "      <td>109.0</td>\n",
       "      <td>9.0</td>\n",
       "      <td>25.0</td>\n",
       "      <td>549.0</td>\n",
       "      <td>44.0</td>\n",
       "      <td>Juanna Vines</td>\n",
       "      <td>True</td>\n",
       "    </tr>\n",
       "    <tr>\n",
       "      <th>2</th>\n",
       "      <td>0003_01</td>\n",
       "      <td>Europa</td>\n",
       "      <td>False</td>\n",
       "      <td>A/0/S</td>\n",
       "      <td>TRAPPIST-1e</td>\n",
       "      <td>58.0</td>\n",
       "      <td>True</td>\n",
       "      <td>43.0</td>\n",
       "      <td>3576.0</td>\n",
       "      <td>0.0</td>\n",
       "      <td>6715.0</td>\n",
       "      <td>49.0</td>\n",
       "      <td>Altark Susent</td>\n",
       "      <td>False</td>\n",
       "    </tr>\n",
       "    <tr>\n",
       "      <th>3</th>\n",
       "      <td>0003_02</td>\n",
       "      <td>Europa</td>\n",
       "      <td>False</td>\n",
       "      <td>A/0/S</td>\n",
       "      <td>TRAPPIST-1e</td>\n",
       "      <td>33.0</td>\n",
       "      <td>False</td>\n",
       "      <td>0.0</td>\n",
       "      <td>1283.0</td>\n",
       "      <td>371.0</td>\n",
       "      <td>3329.0</td>\n",
       "      <td>193.0</td>\n",
       "      <td>Solam Susent</td>\n",
       "      <td>False</td>\n",
       "    </tr>\n",
       "    <tr>\n",
       "      <th>4</th>\n",
       "      <td>0004_01</td>\n",
       "      <td>Earth</td>\n",
       "      <td>False</td>\n",
       "      <td>F/1/S</td>\n",
       "      <td>TRAPPIST-1e</td>\n",
       "      <td>16.0</td>\n",
       "      <td>False</td>\n",
       "      <td>303.0</td>\n",
       "      <td>70.0</td>\n",
       "      <td>151.0</td>\n",
       "      <td>565.0</td>\n",
       "      <td>2.0</td>\n",
       "      <td>Willy Santantines</td>\n",
       "      <td>True</td>\n",
       "    </tr>\n",
       "  </tbody>\n",
       "</table>\n",
       "</div>"
      ],
      "text/plain": [
       "  PassengerId HomePlanet CryoSleep  Cabin  Destination   Age    VIP  \\\n",
       "0     0001_01     Europa     False  B/0/P  TRAPPIST-1e  39.0  False   \n",
       "1     0002_01      Earth     False  F/0/S  TRAPPIST-1e  24.0  False   \n",
       "2     0003_01     Europa     False  A/0/S  TRAPPIST-1e  58.0   True   \n",
       "3     0003_02     Europa     False  A/0/S  TRAPPIST-1e  33.0  False   \n",
       "4     0004_01      Earth     False  F/1/S  TRAPPIST-1e  16.0  False   \n",
       "\n",
       "   RoomService  FoodCourt  ShoppingMall     Spa  VRDeck               Name  \\\n",
       "0          0.0        0.0           0.0     0.0     0.0    Maham Ofracculy   \n",
       "1        109.0        9.0          25.0   549.0    44.0       Juanna Vines   \n",
       "2         43.0     3576.0           0.0  6715.0    49.0      Altark Susent   \n",
       "3          0.0     1283.0         371.0  3329.0   193.0       Solam Susent   \n",
       "4        303.0       70.0         151.0   565.0     2.0  Willy Santantines   \n",
       "\n",
       "   Transported  \n",
       "0        False  \n",
       "1         True  \n",
       "2        False  \n",
       "3        False  \n",
       "4         True  "
      ]
     },
     "execution_count": 1496,
     "metadata": {},
     "output_type": "execute_result"
    }
   ],
   "source": [
    "data.head()"
   ]
  },
  {
   "cell_type": "code",
   "execution_count": 1497,
   "metadata": {},
   "outputs": [
    {
     "name": "stdout",
     "output_type": "stream",
     "text": [
      "<class 'pandas.core.frame.DataFrame'>\n",
      "RangeIndex: 8693 entries, 0 to 8692\n",
      "Data columns (total 14 columns):\n",
      " #   Column        Non-Null Count  Dtype  \n",
      "---  ------        --------------  -----  \n",
      " 0   PassengerId   8693 non-null   object \n",
      " 1   HomePlanet    8492 non-null   object \n",
      " 2   CryoSleep     8476 non-null   object \n",
      " 3   Cabin         8494 non-null   object \n",
      " 4   Destination   8511 non-null   object \n",
      " 5   Age           8514 non-null   float64\n",
      " 6   VIP           8490 non-null   object \n",
      " 7   RoomService   8512 non-null   float64\n",
      " 8   FoodCourt     8510 non-null   float64\n",
      " 9   ShoppingMall  8485 non-null   float64\n",
      " 10  Spa           8510 non-null   float64\n",
      " 11  VRDeck        8505 non-null   float64\n",
      " 12  Name          8493 non-null   object \n",
      " 13  Transported   8693 non-null   bool   \n",
      "dtypes: bool(1), float64(6), object(7)\n",
      "memory usage: 891.5+ KB\n"
     ]
    }
   ],
   "source": [
    "data.info()"
   ]
  },
  {
   "cell_type": "code",
   "execution_count": 1498,
   "metadata": {},
   "outputs": [
    {
     "data": {
      "text/plain": [
       "PassengerId     0.000000\n",
       "HomePlanet      0.023122\n",
       "CryoSleep       0.024963\n",
       "Cabin           0.022892\n",
       "Destination     0.020936\n",
       "Age             0.020591\n",
       "VIP             0.023352\n",
       "RoomService     0.020821\n",
       "FoodCourt       0.021051\n",
       "ShoppingMall    0.023927\n",
       "Spa             0.021051\n",
       "VRDeck          0.021627\n",
       "Name            0.023007\n",
       "Transported     0.000000\n",
       "dtype: float64"
      ]
     },
     "execution_count": 1498,
     "metadata": {},
     "output_type": "execute_result"
    }
   ],
   "source": [
    "missing_values = data.isnull().mean()\n",
    "missing_values"
   ]
  },
  {
   "cell_type": "code",
   "execution_count": 1499,
   "metadata": {},
   "outputs": [
    {
     "name": "stdout",
     "output_type": "stream",
     "text": [
      "% of rows with missing values: 24.01%\n"
     ]
    },
    {
     "data": {
      "text/plain": [
       "<AxesSubplot: >"
      ]
     },
     "execution_count": 1499,
     "metadata": {},
     "output_type": "execute_result"
    },
    {
     "data": {
      "image/png": "[encoded data removed]",
      "text/plain": [
       "<Figure size 1000x500 with 2 Axes>"
      ]
     },
     "metadata": {},
     "output_type": "display_data"
    }
   ],
   "source": [
    "# get rows with missing values, sample 200 of them, visualize them with missingno\n",
    "missing_train = data[data.isnull().any(axis=1)]\n",
    "print(f'% of rows with missing values: {len(missing_train)/len(data)*100:.2f}%')\n",
    "msno.matrix(missing_train.sample(200), figsize=(10, 5))"
   ]
  },
  {
   "cell_type": "code",
   "execution_count": 1500,
   "metadata": {},
   "outputs": [
    {
     "data": {
      "text/html": [
       "<div>\n",
       "<style scoped>\n",
       "    .dataframe tbody tr th:only-of-type {\n",
       "        vertical-align: middle;\n",
       "    }\n",
       "\n",
       "    .dataframe tbody tr th {\n",
       "        vertical-align: top;\n",
       "    }\n",
       "\n",
       "    .dataframe thead th {\n",
       "        text-align: right;\n",
       "    }\n",
       "</style>\n",
       "<table border=\"1\" class=\"dataframe\">\n",
       "  <thead>\n",
       "    <tr style=\"text-align: right;\">\n",
       "      <th></th>\n",
       "      <th>HomePlanet</th>\n",
       "      <th>CryoSleep</th>\n",
       "      <th>Cabin</th>\n",
       "      <th>Destination</th>\n",
       "      <th>Age</th>\n",
       "      <th>VIP</th>\n",
       "      <th>RoomService</th>\n",
       "      <th>FoodCourt</th>\n",
       "      <th>ShoppingMall</th>\n",
       "      <th>Spa</th>\n",
       "      <th>VRDeck</th>\n",
       "      <th>Name</th>\n",
       "    </tr>\n",
       "  </thead>\n",
       "  <tbody>\n",
       "    <tr>\n",
       "      <th>Age</th>\n",
       "      <td>0.910156</td>\n",
       "      <td>0.361841</td>\n",
       "      <td>0.915561</td>\n",
       "      <td>0.165507</td>\n",
       "      <td>NaN</td>\n",
       "      <td>0.434924</td>\n",
       "      <td>0.074629</td>\n",
       "      <td>0.414203</td>\n",
       "      <td>0.798619</td>\n",
       "      <td>0.830167</td>\n",
       "      <td>0.210945</td>\n",
       "      <td>0.507161</td>\n",
       "    </tr>\n",
       "    <tr>\n",
       "      <th>RoomService</th>\n",
       "      <td>0.867838</td>\n",
       "      <td>0.999468</td>\n",
       "      <td>0.975527</td>\n",
       "      <td>0.688854</td>\n",
       "      <td>0.577874</td>\n",
       "      <td>0.969110</td>\n",
       "      <td>NaN</td>\n",
       "      <td>0.999016</td>\n",
       "      <td>0.811709</td>\n",
       "      <td>0.176488</td>\n",
       "      <td>0.290025</td>\n",
       "      <td>0.928330</td>\n",
       "    </tr>\n",
       "    <tr>\n",
       "      <th>FoodCourt</th>\n",
       "      <td>0.748817</td>\n",
       "      <td>0.885121</td>\n",
       "      <td>0.920901</td>\n",
       "      <td>0.995295</td>\n",
       "      <td>0.853947</td>\n",
       "      <td>0.988739</td>\n",
       "      <td>0.935038</td>\n",
       "      <td>NaN</td>\n",
       "      <td>0.184462</td>\n",
       "      <td>0.578431</td>\n",
       "      <td>0.701111</td>\n",
       "      <td>0.965022</td>\n",
       "    </tr>\n",
       "    <tr>\n",
       "      <th>ShoppingMall</th>\n",
       "      <td>0.696107</td>\n",
       "      <td>0.641470</td>\n",
       "      <td>0.119795</td>\n",
       "      <td>0.761485</td>\n",
       "      <td>0.136680</td>\n",
       "      <td>0.534693</td>\n",
       "      <td>0.981525</td>\n",
       "      <td>0.998392</td>\n",
       "      <td>NaN</td>\n",
       "      <td>0.953773</td>\n",
       "      <td>0.638414</td>\n",
       "      <td>0.982638</td>\n",
       "    </tr>\n",
       "    <tr>\n",
       "      <th>Spa</th>\n",
       "      <td>0.463948</td>\n",
       "      <td>0.708913</td>\n",
       "      <td>0.686180</td>\n",
       "      <td>0.600483</td>\n",
       "      <td>0.898993</td>\n",
       "      <td>0.999962</td>\n",
       "      <td>0.611765</td>\n",
       "      <td>0.655985</td>\n",
       "      <td>0.062396</td>\n",
       "      <td>NaN</td>\n",
       "      <td>0.244178</td>\n",
       "      <td>0.985091</td>\n",
       "    </tr>\n",
       "    <tr>\n",
       "      <th>VRDeck</th>\n",
       "      <td>0.903086</td>\n",
       "      <td>0.835444</td>\n",
       "      <td>0.922832</td>\n",
       "      <td>0.563879</td>\n",
       "      <td>0.684721</td>\n",
       "      <td>0.842138</td>\n",
       "      <td>0.904256</td>\n",
       "      <td>0.752953</td>\n",
       "      <td>0.594020</td>\n",
       "      <td>0.999159</td>\n",
       "      <td>NaN</td>\n",
       "      <td>0.985043</td>\n",
       "    </tr>\n",
       "  </tbody>\n",
       "</table>\n",
       "</div>"
      ],
      "text/plain": [
       "              HomePlanet  CryoSleep     Cabin  Destination       Age  \\\n",
       "Age             0.910156   0.361841  0.915561     0.165507       NaN   \n",
       "RoomService     0.867838   0.999468  0.975527     0.688854  0.577874   \n",
       "FoodCourt       0.748817   0.885121  0.920901     0.995295  0.853947   \n",
       "ShoppingMall    0.696107   0.641470  0.119795     0.761485  0.136680   \n",
       "Spa             0.463948   0.708913  0.686180     0.600483  0.898993   \n",
       "VRDeck          0.903086   0.835444  0.922832     0.563879  0.684721   \n",
       "\n",
       "                   VIP  RoomService  FoodCourt  ShoppingMall       Spa  \\\n",
       "Age           0.434924     0.074629   0.414203      0.798619  0.830167   \n",
       "RoomService   0.969110          NaN   0.999016      0.811709  0.176488   \n",
       "FoodCourt     0.988739     0.935038        NaN      0.184462  0.578431   \n",
       "ShoppingMall  0.534693     0.981525   0.998392           NaN  0.953773   \n",
       "Spa           0.999962     0.611765   0.655985      0.062396       NaN   \n",
       "VRDeck        0.842138     0.904256   0.752953      0.594020  0.999159   \n",
       "\n",
       "                VRDeck      Name  \n",
       "Age           0.210945  0.507161  \n",
       "RoomService   0.290025  0.928330  \n",
       "FoodCourt     0.701111  0.965022  \n",
       "ShoppingMall  0.638414  0.982638  \n",
       "Spa           0.244178  0.985091  \n",
       "VRDeck             NaN  0.985043  "
      ]
     },
     "execution_count": 1500,
     "metadata": {},
     "output_type": "execute_result"
    }
   ],
   "source": [
    "# Initialize an empty dictionary to hold p-values\n",
    "p_values = {}\n",
    "\n",
    "# Loop over columns\n",
    "for column in data.columns:\n",
    "    if data[column].isnull().any():  # if the column has missing values\n",
    "        # Compare distributions of numerical columns in rows where 'column' is missing vs not missing\n",
    "        p_values[column] = {}\n",
    "        for num_column in data.select_dtypes(include=[np.number]).columns:\n",
    "            if num_column != column:  # avoid comparing a column with itself\n",
    "                # Perform a Kolmogorov-Smirnov test (a 2-sample test to compare distributions)\n",
    "                _, p_value = ks_2samp(data.loc[data[column].isnull(), num_column].dropna(),\n",
    "                                      data.loc[data[column].notnull(), num_column].dropna())\n",
    "                p_values[column][num_column] = p_value\n",
    "\n",
    "# Convert dictionary to DataFrame\n",
    "p_values = pd.DataFrame(p_values)\n",
    "p_values"
   ]
  },
  {
   "cell_type": "code",
   "execution_count": 1501,
   "metadata": {},
   "outputs": [],
   "source": [
    "data['Group'] = data['PassengerId'].map(lambda x: re.split(\"_\", x)[0])\n",
    "data['GroupNum'] = data['PassengerId'].map(lambda x: re.split(\"_\", x)[1])\n",
    "data.drop(['PassengerId'], inplace=True, axis=1)\n",
    "\n",
    "test['Group'] = test['PassengerId'].map(lambda x: re.split(\"_\", x)[0])\n",
    "test['GroupNum'] = test['PassengerId'].map(lambda x: re.split(\"_\", x)[1])\n",
    "# don't drop PassengerId from test set, need it for submission"
   ]
  },
  {
   "cell_type": "code",
   "execution_count": 1502,
   "metadata": {},
   "outputs": [],
   "source": [
    "data['Name'] = data['Name'].str.lower()\n",
    "data['FirstName'] = data['Name'].map(lambda x: re.split(' ', x)[0], na_action='ignore')\n",
    "data['LastName'] = data['Name'].map(lambda x: re.split(' ', x)[1], na_action='ignore')\n",
    "data.drop('Name', axis=1, inplace=True)\n",
    "\n",
    "test['Name'] = test['Name'].str.lower()\n",
    "test['FirstName'] = test['Name'].map(lambda x: re.split(' ', x)[0], na_action='ignore')\n",
    "test['LastName'] = test['Name'].map(lambda x: re.split(' ', x)[1], na_action='ignore')\n",
    "test.drop('Name', axis=1, inplace=True)"
   ]
  },
  {
   "cell_type": "code",
   "execution_count": 1503,
   "metadata": {},
   "outputs": [],
   "source": [
    "data['Deck'] = data['Cabin'].map(lambda x: re.split(\"/\", x)[0], na_action='ignore')\n",
    "data['Num'] = data['Cabin'].map(lambda x: re.split(\"/\", x)[1], na_action='ignore')\n",
    "# data['Num'] = pd.to_numeric(data['Num'], errors='coerce')\n",
    "# num_mean = data['Num'].mean()\n",
    "# data['Num'].fillna(num_mean, inplace=True)\n",
    "data['Split'] = data['Cabin'].map(lambda x: re.split(\"/\", x)[2], na_action='ignore')\n",
    "data.drop('Cabin', axis=1, inplace=True)\n",
    "\n",
    "test['Deck'] = test['Cabin'].map(lambda x: re.split(\"/\", x)[0], na_action='ignore')\n",
    "test['Num'] = test['Cabin'].map(lambda x: re.split(\"/\", x)[1], na_action='ignore')\n",
    "# test['Num'] = pd.to_numeric(test['Num'], errors='coerce')\n",
    "# test['Num'].fillna(num_mean, inplace=True)\n",
    "test['Split'] = test['Cabin'].map(lambda x: re.split(\"/\", x)[2], na_action='ignore')\n",
    "test.drop('Cabin', axis=1, inplace=True)"
   ]
  },
  {
   "cell_type": "code",
   "execution_count": 1504,
   "metadata": {},
   "outputs": [],
   "source": [
    "# save data\n",
    "data.to_csv('data/train_cleaned_no_fillna.csv', index=False)\n",
    "test.to_csv('data/test_cleaned_no_fillna.csv', index=False)"
   ]
  },
  {
   "cell_type": "code",
   "execution_count": 1505,
   "metadata": {},
   "outputs": [],
   "source": [
    "# first, impute the columns with missing values and have CryoSleep = True to 0 (if you are asleep, you can't spend)\n",
    "missing = data.loc[((data['RoomService'].isna()) | (data['FoodCourt'].isna()) | (data['ShoppingMall'].isna())\n",
    "                      | (data['Spa'].isna()) | (data['VRDeck'].isna())) & (data['CryoSleep'] == True), :]\n",
    "data.loc[(data['RoomService'].isna()) & (data['CryoSleep'] == True), 'RoomService'] = 0\n",
    "data.loc[(data['FoodCourt'].isna()) & (data['CryoSleep'] == True), 'FoodCourt'] = 0\n",
    "data.loc[(data['ShoppingMall'].isna()) & (data['CryoSleep'] == True), 'ShoppingMall'] = 0\n",
    "data.loc[(data['Spa'].isna()) & (data['CryoSleep'] == True), 'Spa'] = 0\n",
    "data.loc[(data['VRDeck'].isna()) & (data['CryoSleep'] == True), 'VRDeck'] = 0\n",
    "\n",
    "# do the same for test data\n",
    "missing = test.loc[((test['RoomService'].isna()) | (test['FoodCourt'].isna()) | (test['ShoppingMall'].isna())\n",
    "                      | (test['Spa'].isna()) | (test['VRDeck'].isna())) & (test['CryoSleep'] == True), :]\n",
    "test.loc[(test['RoomService'].isna()) & (test['CryoSleep'] == True), 'RoomService'] = 0\n",
    "test.loc[(test['FoodCourt'].isna()) & (test['CryoSleep'] == True), 'FoodCourt'] = 0\n",
    "test.loc[(test['ShoppingMall'].isna()) & (test['CryoSleep'] == True), 'ShoppingMall'] = 0\n",
    "test.loc[(test['Spa'].isna()) & (test['CryoSleep'] == True), 'Spa'] = 0\n",
    "test.loc[(test['VRDeck'].isna()) & (test['CryoSleep'] == True), 'VRDeck'] = 0"
   ]
  },
  {
   "cell_type": "code",
   "execution_count": 1506,
   "metadata": {},
   "outputs": [
    {
     "data": {
      "text/html": [
       "<div>\n",
       "<style scoped>\n",
       "    .dataframe tbody tr th:only-of-type {\n",
       "        vertical-align: middle;\n",
       "    }\n",
       "\n",
       "    .dataframe tbody tr th {\n",
       "        vertical-align: top;\n",
       "    }\n",
       "\n",
       "    .dataframe thead th {\n",
       "        text-align: right;\n",
       "    }\n",
       "</style>\n",
       "<table border=\"1\" class=\"dataframe\">\n",
       "  <thead>\n",
       "    <tr style=\"text-align: right;\">\n",
       "      <th></th>\n",
       "      <th>HomePlanet</th>\n",
       "    </tr>\n",
       "    <tr>\n",
       "      <th>Group</th>\n",
       "      <th></th>\n",
       "    </tr>\n",
       "  </thead>\n",
       "  <tbody>\n",
       "  </tbody>\n",
       "</table>\n",
       "</div>"
      ],
      "text/plain": [
       "Empty DataFrame\n",
       "Columns: [HomePlanet]\n",
       "Index: []"
      ]
     },
     "execution_count": 1506,
     "metadata": {},
     "output_type": "execute_result"
    }
   ],
   "source": [
    "temp_data = data.loc[data['Group'].notnull() & data['HomePlanet'].notnull(), ['Group', 'HomePlanet']]\n",
    "# confirm whether each group has only one home planet\n",
    "confirm = temp_data.groupby('Group').nunique()\n",
    "confirm[confirm['HomePlanet'] > 1]"
   ]
  },
  {
   "cell_type": "code",
   "execution_count": 1507,
   "metadata": {},
   "outputs": [
    {
     "name": "stdout",
     "output_type": "stream",
     "text": [
      "Number of missing HomePlanet values in data: 201\n",
      "Number of missing HomePlanet values in test: 87\n",
      "Number of missing HomePlanet values in data: 111\n",
      "Number of missing HomePlanet values in test: 46\n"
     ]
    }
   ],
   "source": [
    "# passengers from the same group are from the same HomePlanet, thus fill HomePlanet with Group's HomePlanet value\n",
    "temp_test = test.loc[test['Group'].notnull() & test['HomePlanet'].notnull(), ['Group', 'HomePlanet']]\n",
    "\n",
    "# check if there are any missing HomePlanet values\n",
    "print(f'Number of missing HomePlanet values in data: {data[\"HomePlanet\"].isna().sum()}')\n",
    "print(f'Number of missing HomePlanet values in test: {test[\"HomePlanet\"].isna().sum()}')\n",
    "\n",
    "data['HomePlanet'] = data['HomePlanet'].fillna(data['Group'].map(temp_data.groupby('Group').first()['HomePlanet']))\n",
    "test['HomePlanet'] = test['HomePlanet'].fillna(test['Group'].map(temp_test.groupby('Group').first()['HomePlanet']))\n",
    "\n",
    "# check if there are any missing HomePlanet values\n",
    "print(f'Number of missing HomePlanet values in data: {data[\"HomePlanet\"].isna().sum()}')\n",
    "print(f'Number of missing HomePlanet values in test: {test[\"HomePlanet\"].isna().sum()}')"
   ]
  },
  {
   "cell_type": "code",
   "execution_count": 1508,
   "metadata": {},
   "outputs": [
    {
     "name": "stdout",
     "output_type": "stream",
     "text": [
      "% Earth on E, F, G: 0.979\n",
      "% Mars on D, E, F: 0.979\n",
      "% Europa on A, B, C, D, E, T: 0.971\n",
      "Number of missing HomePlanet values in data: 4\n",
      "Number of missing HomePlanet values in test: 1\n",
      "\n",
      "Number of groups with different Split values: 0\n",
      "Number of missing Split values in data: 199\n",
      "Number of missing Split values in test: 100\n",
      "Number of missing Split values in data: 99\n",
      "Number of missing Split values in test: 63\n",
      "\n",
      "% Deck G no bill: 1.000\n",
      "% Deck E or F no bill: 0.881\n",
      "% Deck B no bill: 1.000\n",
      "Number of missing HomePlanet values in data: 4\n",
      "Number of missing HomePlanet values in test: 1\n",
      "\n",
      "% Children no bill: 0.947\n",
      "% Children VIP: 0.000\n",
      "\n",
      "% not Children and not CryoSleep no bill with Destination TRAPPIST-1e: 0.979\n",
      "Number of missing Destination values in data: 182\n",
      "Number of missing Destination values in data: 180\n",
      "\n",
      "% Earth VIP: 0.000\n",
      "Number of missing VIP values in data: 179\n",
      "Number of missing VIP values in data: 79\n",
      "\n",
      "% Mars VIP with Age >= 18 and no CryoSleep and never goes to \"55 Cancri e\": 0.969\n",
      "Number of missing VIP values in data: 62\n",
      "\n",
      "% Europa age > 35 cryosleep transported: 0.617\n",
      "\n"
     ]
    }
   ],
   "source": [
    "# the following are the rules for filling in missing values found on the Kaggle discussion board https://www.kaggle.com/competitions/spaceship-titanic/discussion/315987\n",
    "\n",
    "# 1. link between HomePlanet and Deck\n",
    "#   - Earth on E, F, G\n",
    "#   - Mars on D, E, F\n",
    "#   - Europa on A, B, C, D, E, T\n",
    "\n",
    "# test whether the above rules are true\n",
    "earth_total = data.loc[data['HomePlanet'] == 'Earth'].shape[0]\n",
    "earth_on_EFG = data.loc[(data['HomePlanet'] == 'Earth') & (data['Deck'].isin(['E', 'F', 'G']))].shape[0]\n",
    "mars_total = data.loc[data['HomePlanet'] == 'Mars'].shape[0]\n",
    "mars_on_DEF = data.loc[(data['HomePlanet'] == 'Mars') & (data['Deck'].isin(['D', 'E', 'F']))].shape[0]\n",
    "europa_total = data.loc[data['HomePlanet'] == 'Europa'].shape[0]\n",
    "europa_on_ABCDET = data.loc[(data['HomePlanet'] == 'Europa') & (data['Deck'].isin(['A', 'B', 'C', 'D', 'E', 'T']))].shape[0]\n",
    "print(f'% Earth on E, F, G: {earth_on_EFG / earth_total:.3f}')\n",
    "print(f'% Mars on D, E, F: {mars_on_DEF / mars_total:.3f}')\n",
    "print(f'% Europa on A, B, C, D, E, T: {europa_on_ABCDET / europa_total:.3f}')\n",
    "# the above rules are almost true\n",
    "\n",
    "# fill in missing values\n",
    "data.loc[(data['HomePlanet'].isna()) & (data['Deck'].isin(['E', 'F', 'G'])), 'HomePlanet'] = 'Earth'\n",
    "data.loc[(data['HomePlanet'].isna()) & (data['Deck'].isin(['D', 'E', 'F'])), 'HomePlanet'] = 'Mars'\n",
    "data.loc[(data['HomePlanet'].isna()) & (data['Deck'].isin(['A', 'B', 'C', 'D', 'E', 'T'])), 'HomePlanet'] = 'Europa'\n",
    "test.loc[(test['HomePlanet'].isna()) & (test['Deck'].isin(['E', 'F', 'G'])), 'HomePlanet'] = 'Earth'\n",
    "test.loc[(test['HomePlanet'].isna()) & (test['Deck'].isin(['D', 'E', 'F'])), 'HomePlanet'] = 'Mars'\n",
    "test.loc[(test['HomePlanet'].isna()) & (test['Deck'].isin(['A', 'B', 'C', 'D', 'E', 'T'])), 'HomePlanet'] = 'Europa'\n",
    "\n",
    "print(f'Number of missing HomePlanet values in data: {data[\"HomePlanet\"].isna().sum()}')\n",
    "print(f'Number of missing HomePlanet values in test: {test[\"HomePlanet\"].isna().sum()}\\n')\n",
    "\n",
    "# 2. persons in the same group all have the same split, possibly on different deck, thus fill Split with Group's Split value\n",
    "\n",
    "# test whether the above rule is true\n",
    "temp_data = data.loc[data['Group'].notnull() & data['Split'].notnull(), ['Group', 'Split']]\n",
    "confirm = temp_data.groupby('Group').nunique()\n",
    "print(f'Number of groups with different Split values: {confirm[confirm[\"Split\"] > 1].shape[0]}')\n",
    "# the above rule is true\n",
    "\n",
    "print(f'Number of missing Split values in data: {data[\"Split\"].isna().sum()}')\n",
    "print(f'Number of missing Split values in test: {test[\"Split\"].isna().sum()}')\n",
    "\n",
    "# fill in missing values\n",
    "temp_test = test.loc[test['Group'].notnull() & test['Split'].notnull(), ['Group', 'Split']]\n",
    "data['Split'] = data['Split'].fillna(data['Group'].map(temp_data.groupby('Group').first()['Split']))\n",
    "test['Split'] = test['Split'].fillna(test['Group'].map(temp_test.groupby('Group').first()['Split']))\n",
    "\n",
    "print(f'Number of missing Split values in data: {data[\"Split\"].isna().sum()}')\n",
    "print(f'Number of missing Split values in test: {test[\"Split\"].isna().sum()}\\n')\n",
    "\n",
    "# 3. in groups with several deck, people with no bill are necessarily on deck:\n",
    "#   - Earth on G\n",
    "#   - Mars on E or F\n",
    "#   - Europa on B\n",
    "\n",
    "# test whether the above rule is true\n",
    "no_bill = (data['RoomService'] == 0) & (data['FoodCourt'] == 0) & (data['ShoppingMall'] == 0) & (data['Spa'] == 0) & (data['VRDeck'] == 0)\n",
    "earth_no_bill_deck_g = data.loc[(data['HomePlanet'] == 'Earth') & (data['Deck'] == 'G') & no_bill].shape[0]\n",
    "mars_no_bill_deck_ef = data.loc[(data['HomePlanet'] == 'Mars') & (data['Deck'].isin(['E', 'F'])) & no_bill].shape[0]\n",
    "europa_no_bill_deck_b = data.loc[(data['HomePlanet'] == 'Europa') & (data['Deck'] == 'B') & no_bill].shape[0]\n",
    "deck_g_no_bill = data.loc[(data['Deck'] == 'G') & no_bill].shape[0]\n",
    "deck_ef_no_bill = data.loc[(data['Deck'].isin(['E', 'F'])) & no_bill].shape[0]\n",
    "deck_b_no_bill = data.loc[(data['Deck'] == 'B') & no_bill].shape[0]\n",
    "print(f'% Deck G no bill: {earth_no_bill_deck_g / deck_g_no_bill:.3f}')\n",
    "print(f'% Deck E or F no bill: {mars_no_bill_deck_ef / deck_ef_no_bill:.3f}')\n",
    "print(f'% Deck B no bill: {europa_no_bill_deck_b / deck_b_no_bill:.3f}')\n",
    "# the second rule is almost true, but the other two are true\n",
    "\n",
    "# fill in missing values\n",
    "data.loc[(data['Deck'] == 'G') & no_bill & (data['HomePlanet'].isna()), 'HomePlanet'] = 'Earth'\n",
    "data.loc[(data['Deck'].isin(['E', 'F'])) & no_bill & (data['HomePlanet'].isna()), 'HomePlanet'] = 'Mars'\n",
    "data.loc[(data['Deck'] == 'B') & no_bill & (data['HomePlanet'].isna()), 'HomePlanet'] = 'Europa'\n",
    "test.loc[(test['Deck'] == 'G') & no_bill & (test['HomePlanet'].isna()), 'HomePlanet'] = 'Earth'\n",
    "test.loc[(test['Deck'].isin(['E', 'F'])) & no_bill & (test['HomePlanet'].isna()), 'HomePlanet'] = 'Mars'\n",
    "test.loc[(test['Deck'] == 'B') & no_bill & (test['HomePlanet'].isna()), 'HomePlanet'] = 'Europa'\n",
    "\n",
    "print(f'Number of missing HomePlanet values in data: {data[\"HomePlanet\"].isna().sum()}')\n",
    "print(f'Number of missing HomePlanet values in test: {test[\"HomePlanet\"].isna().sum()}\\n')\n",
    "\n",
    "# 4. Children (persons with age <= 12 years old) have no bill\n",
    "\n",
    "# test whether the above rule is true\n",
    "children = data['Age'] <= 12\n",
    "print(f'% Children no bill: {data.loc[children & no_bill].shape[0] / data.loc[children].shape[0]:.3f}')\n",
    "# the above rule is almost true\n",
    "\n",
    "# fill in missing values\n",
    "data.loc[children & (data['RoomService'].isna()), 'RoomService'] = 0\n",
    "data.loc[children & (data['FoodCourt'].isna()), 'FoodCourt'] = 0\n",
    "data.loc[children & (data['ShoppingMall'].isna()), 'ShoppingMall'] = 0\n",
    "data.loc[children & (data['Spa'].isna()), 'Spa'] = 0\n",
    "data.loc[children & (data['VRDeck'].isna()), 'VRDeck'] = 0\n",
    "test.loc[children & (test['RoomService'].isna()), 'RoomService'] = 0\n",
    "test.loc[children & (test['FoodCourt'].isna()), 'FoodCourt'] = 0\n",
    "test.loc[children & (test['ShoppingMall'].isna()), 'ShoppingMall'] = 0\n",
    "test.loc[children & (test['Spa'].isna()), 'Spa'] = 0\n",
    "test.loc[children & (test['VRDeck'].isna()), 'VRDeck'] = 0\n",
    "\n",
    "# 5. Children are not VIP\n",
    "\n",
    "# test whether the above rule is true\n",
    "print(f'% Children VIP: {data.loc[children & (data[\"VIP\"] == 1)].shape[0] / data.loc[children].shape[0]:.3f}')\n",
    "# the above rule is true\n",
    "\n",
    "# fill in missing values\n",
    "data.loc[children & (data['VIP'].isna()), 'VIP'] = False\n",
    "test.loc[children & (test['VIP'].isna()), 'VIP'] = False\n",
    "\n",
    "# 6. People not Children and not CryoSleep with no bill all have Destination TRAPPIST-1e\n",
    "\n",
    "# test whether the above rule is true\n",
    "not_children_cryosleep_no_bill = data.loc[(data['Age'] > 12) & (data['CryoSleep'] == False) & no_bill]\n",
    "print(f'\\n% not Children and not CryoSleep no bill with Destination TRAPPIST-1e: {not_children_cryosleep_no_bill.loc[not_children_cryosleep_no_bill[\"Destination\"] == \"TRAPPIST-1e\"].shape[0] / not_children_cryosleep_no_bill.shape[0]:.3f}')\n",
    "# the above rule is almost true\n",
    "\n",
    "print(f'Number of missing Destination values in data: {data[\"Destination\"].isna().sum()}')\n",
    "\n",
    "# fill in missing values\n",
    "data.loc[(data['Age'] > 12) & (data['CryoSleep'] == False) & no_bill & (data['Destination'].isna()), 'Destination'] = 'TRAPPIST-1e'\n",
    "test.loc[(test['Age'] > 12) & (test['CryoSleep'] == False) & no_bill & (test['Destination'].isna()), 'Destination'] = 'TRAPPIST-1e'\n",
    "\n",
    "print(f'Number of missing Destination values in data: {data[\"Destination\"].isna().sum()}\\n')\n",
    "\n",
    "# 7. Earth has no VIP\n",
    "\n",
    "# test whether the above rule is true\n",
    "print(f'% Earth VIP: {data.loc[(data[\"HomePlanet\"] == \"Earth\") & (data[\"VIP\"] == 1)].shape[0] / data.loc[data[\"HomePlanet\"] == \"Earth\"].shape[0]:.3f}')\n",
    "# the above rule is true\n",
    "\n",
    "print(f'Number of missing VIP values in data: {data[\"VIP\"].isna().sum()}')\n",
    "\n",
    "# fill in missing values\n",
    "data.loc[(data['HomePlanet'] == 'Earth') & (data['VIP'].isna()), 'VIP'] = False\n",
    "test.loc[(test['HomePlanet'] == 'Earth') & (test['VIP'].isna()), 'VIP'] = False\n",
    "\n",
    "print(f'Number of missing VIP values in data: {data[\"VIP\"].isna().sum()}\\n')\n",
    "\n",
    "# 8. Mars VIP have Age >= 18 and no CryoSleep and never goes to \"55 Cancri e\"\n",
    "mars_vip = data.loc[(data['HomePlanet'] == 'Mars') & (data['VIP'] == 1)]\n",
    "print(f'% Mars VIP with Age >= 18 and no CryoSleep and never goes to \"55 Cancri e\": {mars_vip.loc[(mars_vip[\"Age\"] >= 18) & (mars_vip[\"CryoSleep\"] == False) & (mars_vip[\"Destination\"] != \"55 Cancri e\")].shape[0] / mars_vip.shape[0]:.3f}')\n",
    "# the above rule is almost true\n",
    "\n",
    "# fill in missing values\n",
    "data.loc[(data['HomePlanet'] == 'Mars') & (data['VIP'].isna()) & (data['Age'] >= 18) & (data['CryoSleep'] == False) & (data['Destination'] != '55 Cancri e'), 'VIP'] = True\n",
    "test.loc[(test['HomePlanet'] == 'Mars') & (test['VIP'].isna()) & (test['Age'] >= 18) & (test['CryoSleep'] == False) & (test['Destination'] != '55 Cancri e'), 'VIP'] = True\n",
    "\n",
    "print(f'Number of missing VIP values in data: {data[\"VIP\"].isna().sum()}\\n')\n",
    "\n",
    "# 9. Everyone from Europa who was in CryoSleep over age 35 is transported\n",
    "\n",
    "# test whether the above rule is true\n",
    "europa_age_gt_35_transported = (data['HomePlanet'] == 'Europa') & (data['Age'] > 35) & (data['Transported'] == True)\n",
    "print(f'% Europa age > 35 cryosleep transported: {data.loc[europa_age_gt_35_transported & (data[\"CryoSleep\"] == True)].shape[0] / data.loc[europa_age_gt_35_transported].shape[0]:.3f}\\n')\n",
    "# the above rule is not true"
   ]
  },
  {
   "cell_type": "code",
   "execution_count": 1509,
   "metadata": {},
   "outputs": [],
   "source": [
    "# feature engineering\n",
    "bill_cols = ['RoomService', 'FoodCourt', 'ShoppingMall', 'Spa', 'VRDeck']\n",
    "# log transform bill columns to make them more normal, round to 4 decimal places (got worse accuracy)\n",
    "# data[bill_cols] = np.log(data[bill_cols] + 1).round(4)\n",
    "# test[bill_cols] = np.log(test[bill_cols] + 1).round(4)\n",
    "\n",
    "data['total_bill'] = data[bill_cols].sum(axis=1)\n",
    "test['total_bill'] = test[bill_cols].sum(axis=1)\n",
    "\n",
    "# group size = how many unique groupnums are in each group\n",
    "# group_size = data.groupby('Group')['GroupNum'].nunique()\n",
    "# data['group_size'] = data['Group'].map(group_size)\n",
    "# test['group_size'] = test['Group'].map(group_size)\n",
    "\n",
    "# data['travel_solo'] = data['group_size'] == 1\n",
    "# test['travel_solo'] = test['group_size'] == 1"
   ]
  },
  {
   "cell_type": "code",
   "execution_count": 1510,
   "metadata": {},
   "outputs": [],
   "source": [
    "# save data\n",
    "data.to_csv('data/train_imputed.csv', index=False)\n",
    "test.to_csv('data/test_imputed.csv', index=False)"
   ]
  },
  {
   "cell_type": "code",
   "execution_count": 1511,
   "metadata": {},
   "outputs": [
    {
     "name": "stdout",
     "output_type": "stream",
     "text": [
      "['Age', 'RoomService', 'FoodCourt', 'ShoppingMall', 'Spa', 'VRDeck', 'total_bill', 'group_size']\n",
      "['HomePlanet', 'CryoSleep', 'Destination', 'VIP', 'Group', 'GroupNum', 'FirstName', 'LastName', 'Deck', 'Num', 'Split']\n"
     ]
    }
   ],
   "source": [
    "# get all the columns with numerical values\n",
    "numerical_cols = [cname for cname in data.columns if data[cname].dtype in ['int64', 'float64']]\n",
    "print(numerical_cols)\n",
    "# get all the columns with categorical values\n",
    "categorical_cols = [cname for cname in data.columns if data[cname].dtype == 'object']\n",
    "print(categorical_cols)"
   ]
  },
  {
   "cell_type": "code",
   "execution_count": 1512,
   "metadata": {},
   "outputs": [
    {
     "name": "stdout",
     "output_type": "stream",
     "text": [
      "% of rows with missing values: 7.97%\n"
     ]
    }
   ],
   "source": [
    "# replace missing values in categorical columns with \"\"\n",
    "data[categorical_cols] = data[categorical_cols].fillna('')\n",
    "test[categorical_cols] = test[categorical_cols].fillna('')\n",
    "print(f'% of rows with missing values: {len(data[data.isnull().any(axis=1)])/len(data)*100:.2f}%')"
   ]
  },
  {
   "cell_type": "code",
   "execution_count": 1513,
   "metadata": {},
   "outputs": [
    {
     "name": "stdout",
     "output_type": "stream",
     "text": [
      "% of rows with missing values: 5.96%\n"
     ]
    }
   ],
   "source": [
    "# fill missing age values with the mean age\n",
    "data_age_mean = data['Age'].mean()\n",
    "data['Age'] = data['Age'].fillna(data_age_mean)\n",
    "test['Age'] = test['Age'].fillna(data_age_mean)\n",
    "print(f'% of rows with missing values: {len(data[data.isnull().any(axis=1)])/len(data)*100:.2f}%')"
   ]
  },
  {
   "cell_type": "code",
   "execution_count": 1514,
   "metadata": {},
   "outputs": [
    {
     "name": "stdout",
     "output_type": "stream",
     "text": [
      "['RoomService', 'FoodCourt', 'ShoppingMall', 'Spa', 'VRDeck']\n"
     ]
    }
   ],
   "source": [
    "# get names of columns still with missing values\n",
    "cols_with_missing = [col for col in data.columns if data[col].isnull().any()]\n",
    "print(cols_with_missing)"
   ]
  },
  {
   "cell_type": "code",
   "execution_count": 1515,
   "metadata": {},
   "outputs": [
    {
     "data": {
      "image/png": "[encoded data removed]",
      "text/plain": [
       "<Figure size 500x500 with 2 Axes>"
      ]
     },
     "metadata": {},
     "output_type": "display_data"
    }
   ],
   "source": [
    "# plot correlation matrix of ['RoomService', 'FoodCourt', 'ShoppingMall', 'Spa', 'VRDeck']\n",
    "corr_matrix = data[cols_with_missing].corr(numeric_only=True)\n",
    "plt.figure(figsize=(5, 5))\n",
    "sns.heatmap(corr_matrix, annot=True, fmt='.2f', cmap='coolwarm')\n",
    "plt.show()"
   ]
  },
  {
   "cell_type": "code",
   "execution_count": 1516,
   "metadata": {},
   "outputs": [
    {
     "data": {
      "image/png": "[encoded data removed]",
      "text/plain": [
       "<Figure size 2000x300 with 5 Axes>"
      ]
     },
     "metadata": {},
     "output_type": "display_data"
    }
   ],
   "source": [
    "# plot the distribution of the 5 columns\n",
    "plt.figure(figsize=(20, 3))\n",
    "for i, col in enumerate(cols_with_missing):\n",
    "    plt.subplot(1, 5, i+1)\n",
    "    data[col].hist(bins=20)\n",
    "    plt.title(col)"
   ]
  },
  {
   "cell_type": "code",
   "execution_count": 1517,
   "metadata": {},
   "outputs": [
    {
     "data": {
      "text/html": [
       "<div>\n",
       "<style scoped>\n",
       "    .dataframe tbody tr th:only-of-type {\n",
       "        vertical-align: middle;\n",
       "    }\n",
       "\n",
       "    .dataframe tbody tr th {\n",
       "        vertical-align: top;\n",
       "    }\n",
       "\n",
       "    .dataframe thead th {\n",
       "        text-align: right;\n",
       "    }\n",
       "</style>\n",
       "<table border=\"1\" class=\"dataframe\">\n",
       "  <thead>\n",
       "    <tr style=\"text-align: right;\">\n",
       "      <th></th>\n",
       "      <th>RoomService</th>\n",
       "      <th>FoodCourt</th>\n",
       "      <th>ShoppingMall</th>\n",
       "      <th>Spa</th>\n",
       "      <th>VRDeck</th>\n",
       "    </tr>\n",
       "  </thead>\n",
       "  <tbody>\n",
       "    <tr>\n",
       "      <th>count</th>\n",
       "      <td>8586.000000</td>\n",
       "      <td>8587.000000</td>\n",
       "      <td>8590.000000</td>\n",
       "      <td>8579.000000</td>\n",
       "      <td>8586.000000</td>\n",
       "    </tr>\n",
       "    <tr>\n",
       "      <th>mean</th>\n",
       "      <td>222.751106</td>\n",
       "      <td>453.969605</td>\n",
       "      <td>171.605588</td>\n",
       "      <td>308.636321</td>\n",
       "      <td>301.978803</td>\n",
       "    </tr>\n",
       "    <tr>\n",
       "      <th>std</th>\n",
       "      <td>664.162853</td>\n",
       "      <td>1604.828124</td>\n",
       "      <td>601.292045</td>\n",
       "      <td>1132.465664</td>\n",
       "      <td>1140.680220</td>\n",
       "    </tr>\n",
       "    <tr>\n",
       "      <th>min</th>\n",
       "      <td>0.000000</td>\n",
       "      <td>0.000000</td>\n",
       "      <td>0.000000</td>\n",
       "      <td>0.000000</td>\n",
       "      <td>0.000000</td>\n",
       "    </tr>\n",
       "    <tr>\n",
       "      <th>25%</th>\n",
       "      <td>0.000000</td>\n",
       "      <td>0.000000</td>\n",
       "      <td>0.000000</td>\n",
       "      <td>0.000000</td>\n",
       "      <td>0.000000</td>\n",
       "    </tr>\n",
       "    <tr>\n",
       "      <th>50%</th>\n",
       "      <td>0.000000</td>\n",
       "      <td>0.000000</td>\n",
       "      <td>0.000000</td>\n",
       "      <td>0.000000</td>\n",
       "      <td>0.000000</td>\n",
       "    </tr>\n",
       "    <tr>\n",
       "      <th>75%</th>\n",
       "      <td>44.000000</td>\n",
       "      <td>69.500000</td>\n",
       "      <td>24.000000</td>\n",
       "      <td>58.000000</td>\n",
       "      <td>43.000000</td>\n",
       "    </tr>\n",
       "    <tr>\n",
       "      <th>max</th>\n",
       "      <td>14327.000000</td>\n",
       "      <td>29813.000000</td>\n",
       "      <td>23492.000000</td>\n",
       "      <td>22408.000000</td>\n",
       "      <td>24133.000000</td>\n",
       "    </tr>\n",
       "  </tbody>\n",
       "</table>\n",
       "</div>"
      ],
      "text/plain": [
       "        RoomService     FoodCourt  ShoppingMall           Spa        VRDeck\n",
       "count   8586.000000   8587.000000   8590.000000   8579.000000   8586.000000\n",
       "mean     222.751106    453.969605    171.605588    308.636321    301.978803\n",
       "std      664.162853   1604.828124    601.292045   1132.465664   1140.680220\n",
       "min        0.000000      0.000000      0.000000      0.000000      0.000000\n",
       "25%        0.000000      0.000000      0.000000      0.000000      0.000000\n",
       "50%        0.000000      0.000000      0.000000      0.000000      0.000000\n",
       "75%       44.000000     69.500000     24.000000     58.000000     43.000000\n",
       "max    14327.000000  29813.000000  23492.000000  22408.000000  24133.000000"
      ]
     },
     "execution_count": 1517,
     "metadata": {},
     "output_type": "execute_result"
    }
   ],
   "source": [
    "data[cols_with_missing].describe()\n",
    "# std is really high..."
   ]
  },
  {
   "cell_type": "code",
   "execution_count": 1518,
   "metadata": {},
   "outputs": [
    {
     "data": {
      "text/html": [
       "<div>\n",
       "<style scoped>\n",
       "    .dataframe tbody tr th:only-of-type {\n",
       "        vertical-align: middle;\n",
       "    }\n",
       "\n",
       "    .dataframe tbody tr th {\n",
       "        vertical-align: top;\n",
       "    }\n",
       "\n",
       "    .dataframe thead th {\n",
       "        text-align: right;\n",
       "    }\n",
       "</style>\n",
       "<table border=\"1\" class=\"dataframe\">\n",
       "  <thead>\n",
       "    <tr style=\"text-align: right;\">\n",
       "      <th></th>\n",
       "      <th>RoomService</th>\n",
       "      <th>FoodCourt</th>\n",
       "      <th>ShoppingMall</th>\n",
       "      <th>Spa</th>\n",
       "      <th>VRDeck</th>\n",
       "    </tr>\n",
       "    <tr>\n",
       "      <th>CryoSleep</th>\n",
       "      <th></th>\n",
       "      <th></th>\n",
       "      <th></th>\n",
       "      <th></th>\n",
       "      <th></th>\n",
       "    </tr>\n",
       "  </thead>\n",
       "  <tbody>\n",
       "    <tr>\n",
       "      <th>False</th>\n",
       "      <td>349.752906</td>\n",
       "      <td>712.202437</td>\n",
       "      <td>270.181359</td>\n",
       "      <td>485.819291</td>\n",
       "      <td>474.289730</td>\n",
       "    </tr>\n",
       "    <tr>\n",
       "      <th>True</th>\n",
       "      <td>0.000000</td>\n",
       "      <td>0.000000</td>\n",
       "      <td>0.000000</td>\n",
       "      <td>0.000000</td>\n",
       "      <td>0.000000</td>\n",
       "    </tr>\n",
       "    <tr>\n",
       "      <th></th>\n",
       "      <td>218.413953</td>\n",
       "      <td>458.776744</td>\n",
       "      <td>145.300000</td>\n",
       "      <td>276.338028</td>\n",
       "      <td>290.985915</td>\n",
       "    </tr>\n",
       "  </tbody>\n",
       "</table>\n",
       "</div>"
      ],
      "text/plain": [
       "           RoomService   FoodCourt  ShoppingMall         Spa      VRDeck\n",
       "CryoSleep                                                               \n",
       "False       349.752906  712.202437    270.181359  485.819291  474.289730\n",
       "True          0.000000    0.000000      0.000000    0.000000    0.000000\n",
       "            218.413953  458.776744    145.300000  276.338028  290.985915"
      ]
     },
     "execution_count": 1518,
     "metadata": {},
     "output_type": "execute_result"
    }
   ],
   "source": [
    "data.groupby('CryoSleep')[cols_with_missing].mean()"
   ]
  },
  {
   "cell_type": "code",
   "execution_count": 1519,
   "metadata": {},
   "outputs": [],
   "source": [
    "# first mark the missing values rows in a new column\n",
    "data['missing_any'] = np.where(data[cols_with_missing].isnull().any(axis=1), 1, 0)\n",
    "test['missing_any'] = np.where(test[cols_with_missing].isnull().any(axis=1), 1, 0)\n",
    "\n",
    "# then impute missing values in cols_with_missing with mean, but impute separately for CryoSleep = False or when it's ''\n",
    "# (imputing with median is the same as imputing with 0)\n",
    "for col in cols_with_missing:\n",
    "    data.loc[data['CryoSleep'] == '', col] = 0\n",
    "    test.loc[test['CryoSleep'] == '', col] = 0\n",
    "\n",
    "    cryo_false = data.loc[data['CryoSleep'] == False]\n",
    "    cryo_false_mean = cryo_false[col].mean()\n",
    "    data.loc[data['CryoSleep'] == False, col] = cryo_false_mean\n",
    "    test.loc[test['CryoSleep'] == False, col] = cryo_false_mean\n",
    "\n",
    "# create a new column 'TotalAmenities' that sums up the 5 columns\n",
    "data['TotalAmenities'] = data[cols_with_missing].sum(axis=1)\n",
    "test['TotalAmenities'] = test[cols_with_missing].sum(axis=1)"
   ]
  },
  {
   "cell_type": "code",
   "execution_count": 1520,
   "metadata": {},
   "outputs": [
    {
     "data": {
      "text/plain": [
       "missing_any\n",
       "0    1384.880932\n",
       "1    2212.592396\n",
       "Name: TotalAmenities, dtype: float64"
      ]
     },
     "execution_count": 1520,
     "metadata": {},
     "output_type": "execute_result"
    }
   ],
   "source": [
    "# mean total amenities for rows with missing values and rows without missing values\n",
    "data.groupby('missing_any')['TotalAmenities'].mean()"
   ]
  },
  {
   "cell_type": "code",
   "execution_count": 1521,
   "metadata": {},
   "outputs": [
    {
     "data": {
      "image/png": "[encoded data removed]",
      "text/plain": [
       "<Figure size 1000x500 with 1 Axes>"
      ]
     },
     "metadata": {},
     "output_type": "display_data"
    }
   ],
   "source": [
    "# now compare the distribution of 'TotalAmenities' for rows with missing values and rows without missing values on same plot\n",
    "plt.figure(figsize=(10, 5))\n",
    "sns.kdeplot(data.loc[data['missing_any'] == 1, 'TotalAmenities'], label='missing')\n",
    "sns.kdeplot(data.loc[data['missing_any'] == 0, 'TotalAmenities'], label='not missing')\n",
    "plt.xlabel('TotalAmenities')\n",
    "plt.ylabel('Density')\n",
    "plt.title('Distribution of TotalAmenities for rows with missing values vs rows without missing values')\n",
    "plt.legend()\n",
    "plt.show()"
   ]
  },
  {
   "cell_type": "code",
   "execution_count": 1522,
   "metadata": {},
   "outputs": [],
   "source": [
    "# since the two distributions are almost the same, the mean imputation is reasonable and we can drop the 'missing_any' column\n",
    "data = data.drop('missing_any', axis=1)\n",
    "test = test.drop('missing_any', axis=1)\n",
    "\n",
    "# drop TotalAmenities column as well\n",
    "data = data.drop('TotalAmenities', axis=1)\n",
    "test = test.drop('TotalAmenities', axis=1)"
   ]
  },
  {
   "cell_type": "code",
   "execution_count": 1523,
   "metadata": {},
   "outputs": [
    {
     "name": "stdout",
     "output_type": "stream",
     "text": [
      "% of rows with missing values in data: 0.00%\n",
      "% of rows with missing values in test: 100.00%\n"
     ]
    }
   ],
   "source": [
    "print(f'% of rows with missing values in data: {len(data[data.isnull().any(axis=1)])/len(data)*100:.2f}%')\n",
    "print(f'% of rows with missing values in test: {len(test[test.isnull().any(axis=1)])/len(test)*100:.2f}%')"
   ]
  },
  {
   "cell_type": "code",
   "execution_count": 1524,
   "metadata": {},
   "outputs": [],
   "source": [
    "# save the cleaned data\n",
    "data.to_csv('data/train_cleaned.csv', index=False)\n",
    "test.to_csv('data/test_cleaned.csv', index=False)"
   ]
  }
 ],
 "metadata": {
  "kernelspec": {
   "display_name": "Python 3",
   "language": "python",
   "name": "python3"
  },
  "language_info": {
   "codemirror_mode": {
    "name": "ipython",
    "version": 3
   },
   "file_extension": ".py",
   "mimetype": "text/x-python",
   "name": "python",
   "nbconvert_exporter": "python",
   "pygments_lexer": "ipython3",
   "version": "3.11.0"
  },
  "orig_nbformat": 4
 },
 "nbformat": 4,
 "nbformat_minor": 2
}
